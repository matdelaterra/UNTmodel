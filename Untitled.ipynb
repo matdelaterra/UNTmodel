{
 "cells": [
  {
   "cell_type": "code",
   "execution_count": 1,
   "metadata": {},
   "outputs": [],
   "source": [
    "import numpy as np\n",
    "import pandas as pd\n",
    "import matplotlib.pyplot as plt\n",
    "import math\n",
    "%matplotlib inline"
   ]
  },
  {
   "cell_type": "code",
   "execution_count": 2,
   "metadata": {},
   "outputs": [],
   "source": [
    "class Modelo:\n",
    "    def __init__(self, D=100, dz=1, propiedades=None, NH4=60, NO3=0.1):\n",
    "        \n",
    "        self.NH4 = NH4\n",
    "        self.NO3 = NO3\n",
    "        self.profundidad = D \n",
    "        self.incremento = dz   \n",
    "        self.propiedades = propiedades\n",
    "        self.vz = propiedades['HLR']/propiedades['qr'] # CTE\n",
    "        self.Td = self.incremento/self.vz #cte\n",
    "        self.df_salida = None\n",
    "        self.p_profundidad = None\n",
    "        self.p_presion =  None\n",
    "        self.p_humedad = None\n",
    "        self.p_sat_efe = None\n",
    "        self.cond_vertical = None \n",
    "        self.cont_carbon = None\n",
    "        self.WFP = None\n",
    "        self.R = None\n",
    "        self.krmax = None\n",
    "        self.Vmax = None\n",
    "        self.C_NH4 = None\n",
    "        self.C_NO3 = None\n",
    "        self.Ctotal = None\n",
    " \n",
    "    \n",
    "    def perfil_z(self):### Perfil de profundidad\n",
    "        profundidad = self.profundidad\n",
    "        incremento = self.incremento\n",
    "        prof = np.linspace(0, profundidad, int(profundidad//incremento)+1)\n",
    "        self.p_profundidad = prof\n",
    "        self.df_salida = pd.DataFrame(data = prof, columns = ['z'])\n",
    "        return prof\n",
    "    \n",
    "    \n",
    "    def presion(self, Yo=0): ## Perfil de presión\n",
    "        dz = self.incremento\n",
    "        psi = np.zeros(len(self.p_profundidad))\n",
    "        propiedades = self.propiedades\n",
    "        aG = propiedades['aG']\n",
    "        #Yo = propiedades['Yo']\n",
    "        Ks = propiedades['Ks']\n",
    "        HLR = propiedades['HLR']\n",
    "        \n",
    "        for ind, val in enumerate(psi):\n",
    "            psi[ind] = Yo\n",
    "            log = (HLR/Ks) * math.exp(-aG*Yo) * (math.exp(aG*dz) - 1) + 1\n",
    "            Yo = Yo - dz + (1/aG) * math.log(log)\n",
    "        self.p_presion = psi\n",
    "        return psi\n",
    "    \n",
    "    \n",
    "    def tetha(self):####### Perfil de humedad\n",
    "        presion = self.p_presion\n",
    "        aVG = self.propiedades['aVG']\n",
    "        qs = self.propiedades['qs']\n",
    "        qr = self.propiedades['qr']\n",
    "        n = self.propiedades['n']\n",
    "        m = 1 - 1/n\n",
    "        #print(aVG, qs, qr,n,m, sep='\\n')\n",
    "        tetha = np.zeros(presion.shape[0])\n",
    "        \n",
    "        for ind, val in enumerate(presion):\n",
    "            if val > 0:\n",
    "                tetha[ind] = qs   \n",
    "            else:\n",
    "                ss = qr + (qs-qr)/ math.pow((1 + math.pow(abs(aVG*val),n)),m)\n",
    "                tetha[ind] = ss\n",
    "        self.p_humedad = tetha\n",
    "        return tetha\n",
    "\n",
    "\n",
    "    def fWFP(self):### intentar con map fWFP(self, hum)\n",
    "        \n",
    "        qs = self.propiedades['qs']\n",
    "        swp = self.propiedades['swp']\n",
    "        hum = self.p_humedad\n",
    "        WFP = np.zeros(len(hum))\n",
    "        for i, tetha in enumerate(hum):\n",
    "            sw = tetha/qs\n",
    "            if sw > swp:\n",
    "                WFP[i] = sw\n",
    "            else:\n",
    "                WFP[i] = swp\n",
    "        self.WFP = WFP\n",
    "        return WFP\n",
    "    \n",
    "    \n",
    "    def fcont_c(self):\n",
    "        ac =  self.propiedades['ac']\n",
    "        cont_c = np.zeros(len(self.p_profundidad))\n",
    "        for i, z in enumerate(self.p_profundidad):\n",
    "            cont_c[i] = math.exp(-ac*z)\n",
    "        self.fz = cont_c\n",
    "        return cont_c\n",
    "    \n",
    "    \n",
    "    def fswnt(self):\n",
    "        WFP = self.WFP\n",
    "        fs = self.propiedades['fs']\n",
    "        fwp = self.propiedades['fwp']\n",
    "        swp = self.propiedades['swp']\n",
    "        e2 = self.propiedades['e2']\t # e2\n",
    "        e3 = self.propiedades['e3']\n",
    "        sl = self.propiedades['sl']\n",
    "        sh = self.propiedades['sh']\n",
    "        \n",
    "        fsw_nt = np.zeros(len(WFP))\n",
    "        \n",
    "        for i, wfp in enumerate(WFP):\n",
    "            if sh < wfp <= 1:\n",
    "                fsw_nt[i] = fs + (1-fs)*math.pow((1-wfp)/(1-sh),e2)\n",
    "            elif sl <= wfp <= sh:\n",
    "                fsw_nt[i] = 1\n",
    "            elif swp <= wfp <= sl:\n",
    "                fsw_nt[i] = fwp + (1-fwp)*math.pow((wfp-swp)/(sl-swp),e3)\n",
    "        self.fsw_nt = fsw_nt\n",
    "        return fsw_nt\n",
    "        \n",
    "      \n",
    "    def fswdnt(self):\n",
    "        WFP = self.WFP\n",
    "        sdn = self.propiedades['sdn']\n",
    "        ednt = self.propiedades['ednt']\n",
    "        \n",
    "        fsw_dnt = np.zeros(len(WFP))\n",
    "        \n",
    "        for i, wfp in enumerate(WFP):\n",
    "            if wfp < sdn:\n",
    "                fsw_dnt[i] = 0\n",
    "                \n",
    "            else:\n",
    "                fsw_dnt[i] = math.pow((wfp-sdn)/(1-sdn),ednt)\n",
    "        self.fsw_dnt = fsw_dnt\n",
    "        return fsw_dnt\n",
    "    \n",
    " ##### Parámetros que se utilizan en el calculo de C   \n",
    "    def fR(self):\n",
    "        kd = self.propiedades['kd']\n",
    "        tetha = self.p_humedad\n",
    "        qs = self.propiedades['qs']\n",
    "        rho =  self.propiedades['rho']\n",
    "        \n",
    "        r = np.zeros(len(tetha))\n",
    "        \n",
    "        for i, h in enumerate(tetha):\n",
    "            r[i] = 1 + (rho*kd/(h*qs))\n",
    "        self.R = r\n",
    "        self.df_salida['R'] = np.flip(r)\n",
    "        return r\n",
    "    \n",
    "    def f_krmax(self):\n",
    "        kr_max = self.propiedades['kr_max']\n",
    "        kr = self.fsw_nt * kr_max\n",
    "        self.krmax = kr\n",
    "        self.df_salida['krmax'] = np.flip(kr)\n",
    "        return kr\n",
    "    \n",
    "    \n",
    "    def fVmax(self):\n",
    "        Vmax = self.propiedades['Vmax']\n",
    "        Vm = self.fsw_dnt * Vmax\n",
    "        self.Vmax = Vm\n",
    "        self.df_salida['Vmax'] = np.flip(Vm)\n",
    "        return Vm\n",
    "    \n",
    "    \n",
    "###################    \n",
    "    def fconc(self, km, Co, mu_max, R=1, fz=1):\n",
    "        td = self.Td\n",
    "        ## Newton rhapson\n",
    "        ini = 0.000001\n",
    "        b = -Co-km*math.log(Co) + R*mu_max*fz*td\n",
    "        con = lambda c,b, km : c + km*math.log(c) + b\n",
    "        der_con = lambda c, km: 1 + km/c\n",
    "        \n",
    "        it = 1\n",
    "        while True:\n",
    "            nv = ini - con(ini,b,km)/der_con(ini,km)\n",
    "            if abs(ini - nv) < 0.0000001 or it > 50:\n",
    "                conc = nv\n",
    "                break\n",
    "            else:\n",
    "                ini = nv\n",
    "                it += 1\n",
    "        return conc\n",
    "    \n",
    "\n",
    "    def Cnit(self):\n",
    "        #parametros\n",
    "        C_ini_NH4 = self.NH4\n",
    "        C_ini_NO3 = self.NO3\n",
    "        R_nt = self.df_salida['R']\n",
    "        krmax = self.df_salida['krmax']\n",
    "        vmax = self.df_salida['Vmax']       \n",
    "        \n",
    "        n = np.shape(self.p_profundidad)[0] \n",
    "        c_NH4 = np.zeros(n)\n",
    "        c_NH4[0] = C_ini_NH4\n",
    "        c_NO3 = np.zeros(n)\n",
    "        c_NO3[0] = C_ini_NO3\n",
    "        \n",
    "        for i in range(1,n):\n",
    "            if C_ini_NH4 > 0.001:\n",
    "                c_NH4[i] = self.fconc(self.propiedades['Km_nit'], C_ini_NH4, krmax[i], R_nt[i])\n",
    "            else:\n",
    "                c_NH4[i] = 0\n",
    "            \n",
    "            C_ini_NH4 = c_NH4[i]\n",
    "            \n",
    "            C_ini_NO3 = c_NO3[i-1] + c_NH4[i-1] - c_NH4[i]\n",
    "    \n",
    "            c_NO3[i] = self.fconc( self.propiedades['Km_dnt'],C_ini_NO3, vmax[i])\n",
    "            \n",
    "        self.C_NH4 = c_NH4\n",
    "        self.df_salida['cNH4'] = c_NH4\n",
    "        self.C_NO3 = c_NO3\n",
    "        self.df_salida['cNO3'] = c_NO3\n",
    "        self.Ctotal = c_NH4 + c_NO3    \n",
    "        self.df_salida['Total N'] = self.Ctotal\n",
    "        \n",
    "        #Flujo de masa\n",
    "        Ctotal = self.Ctotal\n",
    "        hlr = self.propiedades['HLR']\n",
    "        mass_fl = np.zeros(Ctotal.shape[0])\n",
    "        for i in range(Ctotal.shape[0]):\n",
    "            mass_fl[i] = (2/3) * Ctotal[i]* (2/3) * hlr / 100\n",
    "        \n",
    "        self.mass_fl = mass_fl\n",
    "            \n",
    "            \n",
    "    def graficar(self):\n",
    "        x = self.p_profundidad\n",
    "        y1 = self.C_NH4\n",
    "        y2 = self.C_NO3\n",
    "        y3 = self.Ctotal\n",
    "        y_fl = self.mass_fl\n",
    "        \n",
    "        \n",
    "        fig, ax = plt.subplots()\n",
    "        ax.plot(x, y1)\n",
    "        ax.plot(x, y2)\n",
    "        ax.plot(x, y3)\n",
    "        ax.set_xlabel('Profundidad')\n",
    "        ax.set_ylabel('Concentración')\n",
    "        ax.set_title('Concentración N')\n",
    "        ax.legend(['CNH4','CNO3','CTotal'])\n",
    "        \n",
    "\n",
    "        fig1, ax1 = plt.subplots()\n",
    "        ax1.plot(x, y_fl)\n",
    "        ax1.set_xlabel('Profundidad')\n",
    "        ax1.set_ylabel('Mass flux $gm^2 d^{-1}$')\n",
    "        ax1.set_title('Mass Flux TN')\n",
    "        ax1.legend(['Mass Flux TN'])\n",
    "        plt.show()"
   ]
  },
  {
   "cell_type": "code",
   "execution_count": 3,
   "metadata": {},
   "outputs": [],
   "source": [
    "#Diccionario de propiedades\n",
    "dic_h = {\n",
    "'HLR':2.00,\n",
    "'aG':0.025,#\t aG\n",
    "'aVG':0.015,#\taVG\n",
    "'Ks':14.75,#\tKs\n",
    "#'Yo':0,#\tYo\n",
    "'qr':0.0980,#\tqr\n",
    "'qs':0.459,#\tqs \n",
    "'n':1.26,#\tn \n",
    "'l':0.50,\t#  l \n",
    "######## nit\n",
    "'swp':0.15,# swp ### sirve para calcular WFP\n",
    "'fs':0.00,#\t  fs \n",
    "'fwp':0.00,#\t  fwp\n",
    "'e2':2.27,\t # e2\n",
    "'e3':1.10,\t#  e3 \n",
    "'kr_max':56.00,#\t  kr max\n",
    "'Km_nit':5.00,#3\t  Km,nit\n",
    "'bnit':0.35,#\t  bnit \n",
    "'sl':0.67,#\t sl\n",
    "'sh':0.81,#\t  sh\n",
    "####### dnt\n",
    "'ednt':3.77,#\t  ednt\n",
    "'Vmax':2.56,#\t  Vmax \n",
    "'Km_dnt':5.00,#\t  Km,dnt\n",
    "'bdnt':0.35,#\t  bdnt \n",
    "'sdn':0.00,#\t  sdn \n",
    "'ac':0.00,#\t  ac \n",
    "##### R\n",
    "'kd':1.46,\n",
    "'rho':1.50\t  #rho\n",
    "}"
   ]
  },
  {
   "cell_type": "code",
   "execution_count": 4,
   "metadata": {},
   "outputs": [],
   "source": [
    "#Creación del objeto modelo\n",
    "mod = Modelo(120, 1, propiedades=dic_h, NH4=60, NO3 = 1)"
   ]
  },
  {
   "cell_type": "code",
   "execution_count": 5,
   "metadata": {},
   "outputs": [
    {
     "data": {
      "text/plain": [
       "array([  0.,   1.,   2.,   3.,   4.,   5.,   6.,   7.,   8.,   9.,  10.,\n",
       "        11.,  12.,  13.,  14.,  15.,  16.,  17.,  18.,  19.,  20.,  21.,\n",
       "        22.,  23.,  24.,  25.,  26.,  27.,  28.,  29.,  30.,  31.,  32.,\n",
       "        33.,  34.,  35.,  36.,  37.,  38.,  39.,  40.,  41.,  42.,  43.,\n",
       "        44.,  45.,  46.,  47.,  48.,  49.,  50.,  51.,  52.,  53.,  54.,\n",
       "        55.,  56.,  57.,  58.,  59.,  60.,  61.,  62.,  63.,  64.,  65.,\n",
       "        66.,  67.,  68.,  69.,  70.,  71.,  72.,  73.,  74.,  75.,  76.,\n",
       "        77.,  78.,  79.,  80.,  81.,  82.,  83.,  84.,  85.,  86.,  87.,\n",
       "        88.,  89.,  90.,  91.,  92.,  93.,  94.,  95.,  96.,  97.,  98.,\n",
       "        99., 100., 101., 102., 103., 104., 105., 106., 107., 108., 109.,\n",
       "       110., 111., 112., 113., 114., 115., 116., 117., 118., 119., 120.])"
      ]
     },
     "execution_count": 5,
     "metadata": {},
     "output_type": "execute_result"
    }
   ],
   "source": [
    "#cálculo de profundidad\n",
    "z = mod.perfil_z()\n",
    "z"
   ]
  },
  {
   "cell_type": "code",
   "execution_count": 6,
   "metadata": {},
   "outputs": [
    {
     "data": {
      "text/plain": [
       "array([  0.        ,  -0.86293276,  -1.72288163,  -2.57979242,\n",
       "        -3.43361042,  -4.28428044,  -5.1317468 ,  -5.97595336,\n",
       "        -6.81684353,  -7.6543603 ,  -8.48844627,  -9.31904364,\n",
       "       -10.14609428, -10.9695397 , -11.78932114, -12.60537955,\n",
       "       -13.41765562, -14.22608983, -15.03062249, -15.83119372,\n",
       "       -16.62774356, -17.42021194, -18.20853873, -18.99266379,\n",
       "       -19.77252702, -20.54806836, -21.31922786, -22.08594571,\n",
       "       -22.84816228, -23.60581817, -24.35885426, -25.10721172,\n",
       "       -25.85083209, -26.58965733, -27.32362984, -28.05269251,\n",
       "       -28.77678879, -29.49586273, -30.20985901, -30.91872302,\n",
       "       -31.62240088, -32.32083951, -33.01398666, -33.701791  ,\n",
       "       -34.38420213, -35.06117062, -35.73264812, -36.39858734,\n",
       "       -37.05894214, -37.71366758, -38.36271993, -39.00605677,\n",
       "       -39.64363698, -40.27542084, -40.90137002, -41.52144768,\n",
       "       -42.13561844, -42.74384851, -43.34610565, -43.94235924,\n",
       "       -44.53258032, -45.11674162, -45.69481759, -46.26678443,\n",
       "       -46.83262012, -47.39230444, -47.94581901, -48.4931473 ,\n",
       "       -49.03427465, -49.56918831, -50.09787741, -50.62033303,\n",
       "       -51.13654815, -51.64651772, -52.15023863, -52.6477097 ,\n",
       "       -53.13893174, -53.62390749, -54.10264162, -54.57514078,\n",
       "       -55.04141354, -55.50147038, -55.9553237 , -56.40298781,\n",
       "       -56.84447887, -57.27981491, -57.70901581, -58.13210323,\n",
       "       -58.54910065, -58.96003328, -59.36492807, -59.76381366,\n",
       "       -60.15672036, -60.54368008, -60.92472635, -61.29989423,\n",
       "       -61.66922029, -62.03274257, -62.39050055, -62.74253507,\n",
       "       -63.08888831, -63.42960374, -63.7647261 , -64.09430129,\n",
       "       -64.41837638, -64.73699953, -65.05021996, -65.35808789,\n",
       "       -65.66065449, -65.95797182, -66.25009282, -66.53707121,\n",
       "       -66.81896147, -67.09581879, -67.367699  , -67.63465854,\n",
       "       -67.89675442, -68.15404414, -68.40658567, -68.6544374 ,\n",
       "       -68.89765807])"
      ]
     },
     "execution_count": 6,
     "metadata": {},
     "output_type": "execute_result"
    }
   ],
   "source": [
    "#Cálculo de presiones\n",
    "y = mod.presion()\n",
    "y"
   ]
  },
  {
   "cell_type": "code",
   "execution_count": 7,
   "metadata": {},
   "outputs": [
    {
     "data": {
      "text/plain": [
       "array([0.459     , 0.45868938, 0.45826029, 0.45777465, 0.45725074,\n",
       "       0.45669848, 0.45612432, 0.45553288, 0.45492765, 0.45431138,\n",
       "       0.45368633, 0.45305436, 0.45241705, 0.45177573, 0.45113158,\n",
       "       0.45048561, 0.44983871, 0.44919166, 0.44854517, 0.44789986,\n",
       "       0.44725627, 0.44661491, 0.44597622, 0.4453406 , 0.44470841,\n",
       "       0.44407997, 0.44345558, 0.4428355 , 0.44221996, 0.44160919,\n",
       "       0.44100337, 0.44040268, 0.43980727, 0.43921729, 0.43863285,\n",
       "       0.43805408, 0.43748106, 0.43691389, 0.43635265, 0.4357974 ,\n",
       "       0.4352482 , 0.4347051 , 0.43416816, 0.43363739, 0.43311284,\n",
       "       0.43259453, 0.43208247, 0.43157669, 0.43107719, 0.43058396,\n",
       "       0.43009703, 0.42961637, 0.42914199, 0.42867387, 0.42821199,\n",
       "       0.42775635, 0.42730693, 0.42686369, 0.42642662, 0.4259957 ,\n",
       "       0.42557088, 0.42515214, 0.42473946, 0.42433279, 0.4239321 ,\n",
       "       0.42353735, 0.4231485 , 0.42276552, 0.42238836, 0.42201697,\n",
       "       0.42165133, 0.42129137, 0.42093706, 0.42058835, 0.42024518,\n",
       "       0.41990752, 0.41957532, 0.41924852, 0.41892707, 0.41861092,\n",
       "       0.41830002, 0.41799432, 0.41769377, 0.4173983 , 0.41710788,\n",
       "       0.41682244, 0.41654192, 0.41626629, 0.41599547, 0.41572941,\n",
       "       0.41546806, 0.41521137, 0.41495927, 0.41471172, 0.41446864,\n",
       "       0.41423   , 0.41399572, 0.41376576, 0.41354006, 0.41331856,\n",
       "       0.4131012 , 0.41288794, 0.4126787 , 0.41247345, 0.41227211,\n",
       "       0.41207463, 0.41188097, 0.41169105, 0.41150484, 0.41132227,\n",
       "       0.41114328, 0.41096783, 0.41079585, 0.4106273 , 0.41046212,\n",
       "       0.41030025, 0.41014165, 0.40998626, 0.40983403, 0.4096849 ,\n",
       "       0.40953883])"
      ]
     },
     "execution_count": 7,
     "metadata": {},
     "output_type": "execute_result"
    }
   ],
   "source": [
    "#perfil de humedad\n",
    "hum = mod.tetha()\n",
    "hum"
   ]
  },
  {
   "cell_type": "code",
   "execution_count": 8,
   "metadata": {},
   "outputs": [
    {
     "data": {
      "text/plain": [
       "array([1.        , 0.99932328, 0.99838843, 0.99733039, 0.99618897,\n",
       "       0.99498579, 0.99373491, 0.99244636, 0.99112777, 0.98978515,\n",
       "       0.98842338, 0.98704654, 0.98565805, 0.98426085, 0.98285747,\n",
       "       0.98145013, 0.98004076, 0.97863108, 0.9772226 , 0.97581669,\n",
       "       0.97441454, 0.97301724, 0.97162575, 0.97024096, 0.96886363,\n",
       "       0.96749449, 0.96613416, 0.96478322, 0.96344219, 0.96211153,\n",
       "       0.96079166, 0.95948297, 0.95818578, 0.95690042, 0.95562713,\n",
       "       0.95436618, 0.95311778, 0.95188212, 0.95065936, 0.94944967,\n",
       "       0.94825316, 0.94706994, 0.94590012, 0.94474377, 0.94360096,\n",
       "       0.94247174, 0.94135615, 0.94025423, 0.93916598, 0.93809143,\n",
       "       0.93703056, 0.93598338, 0.93494986, 0.93392999, 0.93292373,\n",
       "       0.93193105, 0.93095191, 0.92998626, 0.92903404, 0.9280952 ,\n",
       "       0.92716967, 0.9262574 , 0.9253583 , 0.92447231, 0.92359934,\n",
       "       0.92273932, 0.92189216, 0.92105777, 0.92023607, 0.91942696,\n",
       "       0.91863034, 0.91784612, 0.9170742 , 0.91631448, 0.91556685,\n",
       "       0.91483121, 0.91410745, 0.91339546, 0.91269513, 0.91200636,\n",
       "       0.91132902, 0.91066301, 0.91000821, 0.90936449, 0.90873176,\n",
       "       0.90810988, 0.90749874, 0.90689822, 0.90630821, 0.90572857,\n",
       "       0.90515918, 0.90459994, 0.9040507 , 0.90351136, 0.90298179,\n",
       "       0.90246187, 0.90195146, 0.90145046, 0.90095874, 0.90047616,\n",
       "       0.90000262, 0.89953799, 0.89908214, 0.89863496, 0.89819631,\n",
       "       0.89776609, 0.89734416, 0.8969304 , 0.8965247 , 0.89612694,\n",
       "       0.89573699, 0.89535474, 0.89498006, 0.89461285, 0.89425297,\n",
       "       0.89390033, 0.89355479, 0.89321625, 0.89288459, 0.8925597 ,\n",
       "       0.89224147])"
      ]
     },
     "execution_count": 8,
     "metadata": {},
     "output_type": "execute_result"
    }
   ],
   "source": [
    "wfp = mod.fWFP()\n",
    "wfp"
   ]
  },
  {
   "cell_type": "code",
   "execution_count": 9,
   "metadata": {},
   "outputs": [],
   "source": [
    "s = np.linspace(1,0 ,wfp.shape[0])\n",
    "mod.WFP = s"
   ]
  },
  {
   "cell_type": "code",
   "execution_count": 10,
   "metadata": {},
   "outputs": [],
   "source": [
    "#FACTORES PARA LAS REACCIONES\n",
    "## efecto del contenido de carbono\n",
    "fz = mod.fcont_c()\n",
    "## efecto de sw en la nit\n",
    "fswnt = mod.fswnt()\n",
    "## efecto de sw en la desn\n",
    "fswdnt = mod.fswdnt()"
   ]
  },
  {
   "cell_type": "code",
   "execution_count": null,
   "metadata": {},
   "outputs": [],
   "source": []
  },
  {
   "cell_type": "code",
   "execution_count": 17,
   "metadata": {},
   "outputs": [
    {
     "data": {
      "image/png": "[encoded data removed]",
      "text/plain": [
       "<Figure size 900x600 with 1 Axes>"
      ]
     },
     "metadata": {
      "needs_background": "light"
     },
     "output_type": "display_data"
    }
   ],
   "source": [
    "y1 = fswnt\n",
    "#y2 = fswdnt\n",
    "#y3 = fz \n",
    "x = s*100\n",
    "fig, ax = plt.subplots(dpi=150)\n",
    "#ax.plot(x, y1)\n",
    "ax.plot(x, y2)\n",
    "#ax.plot(x, y3)\n",
    "ax.set_xlabel('Contenido de humedad (%)')\n",
    "ax.set_ylabel('Magnitud (adim)')\n",
    "#ax.set_title('Factores para Reacción')\n",
    "ax.set_xlim(0,100)\n",
    "ax.set_ylim(0, 1.1)\n",
    "#ax.legend(['Nitrificación','F_Dnt','F_Carbon'])\n",
    "plt.grid(axis='y')\n",
    "plt.savefig('factoresdnt.png')"
   ]
  },
  {
   "cell_type": "code",
   "execution_count": 12,
   "metadata": {},
   "outputs": [
    {
     "data": {
      "image/png": "[encoded data removed]",
      "text/plain": [
       "<Figure size 432x288 with 1 Axes>"
      ]
     },
     "metadata": {
      "needs_background": "light"
     },
     "output_type": "display_data"
    },
    {
     "data": {
      "image/png": "[encoded data removed]",
      "text/plain": [
       "<Figure size 432x288 with 1 Axes>"
      ]
     },
     "metadata": {
      "needs_background": "light"
     },
     "output_type": "display_data"
    }
   ],
   "source": [
    "#ELEMENTOS PARA CALCULAR LAS CONCENTRACIONES\n",
    "### factor de retardación\n",
    "\n",
    "R = mod.fR()\n",
    "### kr max\n",
    "krmax = mod.f_krmax()\n",
    "##Vmax\n",
    "Vmax = mod.fVmax()\n",
    "\n",
    "## Concentraciones\n",
    "mod.Cnit()\n",
    "\n",
    "\n",
    "CO3 = mod.C_NO3\n",
    "CNH4 = mod.C_NH4\n",
    "#\n",
    "mod.graficar()"
   ]
  },
  {
   "cell_type": "code",
   "execution_count": 25,
   "metadata": {},
   "outputs": [
    {
     "data": {
      "text/plain": [
       "array([[0.5, 1. , 1.5],\n",
       "       [2. , 2.5, 3. ],\n",
       "       [3.5, 4. , 4.5]])"
      ]
     },
     "execution_count": 25,
     "metadata": {},
     "output_type": "execute_result"
    }
   ],
   "source": [
    "m = np.identity(3)*1/2\n",
    "a = np.array([[1,2,3],[4,5,6],[7,8,9]])\n",
    "m@a"
   ]
  },
  {
   "cell_type": "code",
   "execution_count": null,
   "metadata": {},
   "outputs": [],
   "source": []
  }
 ],
 "metadata": {
  "kernelspec": {
   "display_name": "Python 3",
   "language": "python",
   "name": "python3"
  },
  "language_info": {
   "codemirror_mode": {
    "name": "ipython",
    "version": 3
   },
   "file_extension": ".py",
   "mimetype": "text/x-python",
   "name": "python",
   "nbconvert_exporter": "python",
   "pygments_lexer": "ipython3",
   "version": "3.8.3"
  }
 },
 "nbformat": 4,
 "nbformat_minor": 4
}
