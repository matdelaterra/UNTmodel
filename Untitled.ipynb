{
 "cells": [
  {
   "cell_type": "code",
   "execution_count": 1,
   "metadata": {},
   "outputs": [],
   "source": [
    "import numpy as np\n",
    "import pandas as pd\n",
    "import matplotlib.pyplot as plt\n",
    "import math\n",
    "%matplotlib inline"
   ]
  },
  {
   "cell_type": "code",
   "execution_count": 2,
   "metadata": {},
   "outputs": [],
   "source": [
    "class Modelo:\n",
    "    \n",
    "    def __init__(self, D=100, dz=0.5, propiedades=None, NH4=60, NO3=0.1):\n",
    "        \n",
    "        self.NH4 = NH4\n",
    "        self.NO3 = NO3\n",
    "        self.profundidad = D \n",
    "        self.incremento = dz   \n",
    "        self.propiedades = propiedades\n",
    "        self.vz = propiedades['HLR']/propiedades['qr'] # CTE\n",
    "        self.Td = self.incremento/self.vz #cte\n",
    "        self.df_salida = None\n",
    "        self.p_profundidad = None\n",
    "        self.p_presion =  None\n",
    "        self.p_humedad = None\n",
    "        self.p_sat_efe = None\n",
    "        self.cond_vertical = None \n",
    "        self.cont_carbon = None\n",
    "        self.WFP = None\n",
    "        self.R = None\n",
    "        self.krmax = None\n",
    "        self.Vmax = None\n",
    "        self.C_NH4 = None\n",
    "        self.C_NO3 = None\n",
    "        self.Ctotal = None\n",
    "        \n",
    "    \n",
    "    def z(self):\n",
    "        profundidad = self.profundidad\n",
    "        incremento = self.incremento\n",
    "        intervalo = int(profundidad/incremento) + incremento #int(profundidad//incremento)\n",
    "        prof = np.linspace(0, profundidad, intervalo)\n",
    "        self.p_profundidad = prof\n",
    "        self.df_salida = pd.DataFrame(data = prof,columns = ['z'])\n",
    "        return prof\n",
    "    \n",
    "    \n",
    "    def psi(self):\n",
    "        propiedades = self.propiedades\n",
    "        aG = propiedades['aG']\n",
    "        Ks = propiedades['Ks']\n",
    "        HLR = propiedades['HLR']\n",
    "        perfil_z = self.p_profundidad\n",
    "        self.p_presion = np.zeros(perfil_z.shape[0])\n",
    "        for i in range(1, perfil_z.shape[0]):\n",
    "            Yo = self.p_presion[i-1]\n",
    "            z = perfil_z[i]\n",
    "            log = (HLR/Ks) * math.exp(-aG*Yo) * (math.exp(aG*z) - 1) + 1\n",
    "            self.p_presion[i] = Yo - z + (1/aG) * math.log(log)\n",
    "        #self.p_presion = np.flip(self.p_presion)\n",
    "            #print(self.p_presion[i],z, log, math.log(log))\n",
    "        #y = (1/aG)*math.log(math.exp(aG*(Yo-z)) + (HLR/Ks)*(math.exp(-aG*z)-1))\n",
    "        return self.p_presion\n",
    "        \n",
    "    \n",
    "    def tetha(self):####### intentar con map, tetha(self, y)\n",
    "        presion = self.p_presion\n",
    "        aVG = self.propiedades['aVG']\n",
    "        qs = self.propiedades['qs']\n",
    "        qr = self.propiedades['qr']\n",
    "        n = self.propiedades['n']\n",
    "        m = 1 - 1/n\n",
    "        #print(aVG, qs, qr,n,m, sep='\\n')\n",
    "        tetha = np.zeros(presion.shape[0])\n",
    "        \n",
    "        for ind, val in enumerate(presion):\n",
    "            if val > 0:\n",
    "                tetha[ind] = qs\n",
    "                \n",
    "            else:\n",
    "                ss = qr + (qs-qr)/ math.pow((1 + math.pow(abs(aVG*val),n)),m)\n",
    "                tetha[ind] = ss\n",
    "        self.p_humedad = tetha\n",
    "        return tetha\n",
    "\n",
    "\n",
    "\n",
    "    def fWFP(self):### intentar con map fWFP(self, hum)\n",
    "        \n",
    "        qs = self.propiedades['qs']\n",
    "        swp = self.propiedades['swp']\n",
    "        hum = self.p_humedad\n",
    "        WFP = np.zeros(len(hum))\n",
    "        for i, tetha in enumerate(hum):\n",
    "            sw = tetha/qs\n",
    "            if sw > swp:\n",
    "                WFP[i] = sw\n",
    "            else:\n",
    "                WFP[i] = swp\n",
    "        self.WFP = WFP\n",
    "        return WFP\n",
    "    \n",
    "    def fcont_c(self):\n",
    "        ac =  self.propiedades['ac']\n",
    "        cont_c = np.zeros(len(self.p_profundidad))\n",
    "        for i, z in enumerate(self.p_profundidad):\n",
    "            cont_c[i] = math.exp(-ac*z)\n",
    "        self.fz = cont_c\n",
    "        return cont_c\n",
    "    \n",
    "    \n",
    "    def fswnt(self):\n",
    "        WFP = self.WFP\n",
    "        fs = self.propiedades['fs']\n",
    "        fwp = self.propiedades['fwp']\n",
    "        swp = self.propiedades['swp']\n",
    "        e2 = self.propiedades['e2']\t # e2\n",
    "        e3 = self.propiedades['e3']\n",
    "        sl = self.propiedades['sl']\n",
    "        sh = self.propiedades['sh']\n",
    "        \n",
    "        fsw_nt = np.zeros(len(WFP))\n",
    "        \n",
    "        for i, wfp in enumerate(WFP):\n",
    "            if sh < wfp <= 1:\n",
    "                fsw_nt[i] = fs + (1-fs)*math.pow((1-wfp)/(1-sh),e2)\n",
    "            elif sl <= wfp <= sh:\n",
    "                fsw_nt[i] = 1\n",
    "            elif swp <= wfp <= sl:\n",
    "                fsw_nt[i] = fwp + (1-fwp)*math.pow((wfp-swp)/(sl-swp),e3)\n",
    "        self.fsw_nt = fsw_nt\n",
    "        return fsw_nt\n",
    "        \n",
    "      \n",
    "    def fswdnt(self):\n",
    "        WFP = self.WFP\n",
    "        sdn = self.propiedades['sdn']\n",
    "        ednt = self.propiedades['ednt']\n",
    "        \n",
    "        fsw_dnt = np.zeros(len(WFP))\n",
    "        \n",
    "        for i, wfp in enumerate(WFP):\n",
    "            if wfp < sdn:\n",
    "                fsw_dnt[i] = 0\n",
    "                \n",
    "            else:\n",
    "                fsw_dnt[i] = math.pow((wfp-sdn)/(1-sdn),ednt)\n",
    "        self.fsw_dnt = fsw_dnt\n",
    "        return fsw_dnt\n",
    "    \n",
    " ##### Parámetros que se utilizan en el calculo de C   \n",
    "    def fR(self):\n",
    "        kd = self.propiedades['kd']\n",
    "        tetha = self.p_humedad\n",
    "        rho =  self.propiedades['rho']\n",
    "        \n",
    "        r = np.zeros(len(tetha))\n",
    "        \n",
    "        for i, h in enumerate(tetha):\n",
    "            r[i] = 1 + (rho*kd/h)\n",
    "        self.R = r\n",
    "        self.df_salida['R'] = np.flip(r)\n",
    "        return r\n",
    "    \n",
    "    def f_krmax(self):\n",
    "        kr_max = self.propiedades['kr_max']\n",
    "        kr = self.fsw_nt * kr_max\n",
    "        self.krmax = kr\n",
    "        self.df_salida['krmax'] = np.flip(kr)\n",
    "        return kr\n",
    "    \n",
    "    \n",
    "    def fVmax(self):\n",
    "        Vmax = self.propiedades['Vmax']\n",
    "        Vm = self.fsw_dnt * Vmax\n",
    "        self.Vmax = Vm\n",
    "        self.df_salida['Vmax'] = np.flip(Vm)\n",
    "        return Vm\n",
    "\n",
    "    \n",
    "###################    \n",
    "    def fconc(self, km, Co, mu_max, R=1, fz=1):\n",
    "        td = self.Td\n",
    "        ## Newton rhapson\n",
    "        ini = 0.000001\n",
    "        b = -Co-km*math.log(Co) + R*mu_max*fz*td\n",
    "        con = lambda c,b, km : c + km*math.log(c) + b\n",
    "        der_con = lambda c, km: 1 + km/c\n",
    "        \n",
    "        it = 1\n",
    "        while True:\n",
    "            nv = ini - con(ini,b,km)/der_con(ini,km)\n",
    "            if abs(ini - nv) < 0.0000001 or it > 50:\n",
    "                conc = nv\n",
    "                break\n",
    "            else:\n",
    "                ini = nv\n",
    "                it += 1\n",
    "                    \n",
    "        return conc\n",
    "    \n",
    "\n",
    "    \n",
    "    def Cnit(self):\n",
    "        #parametros\n",
    "        C_ini_NH4 = self.NH4\n",
    "        C_ini_NO3 = self.NO3\n",
    "        R_nt = self.df_salida['R']\n",
    "        krmax = self.df_salida['krmax']\n",
    "        vmax = self.df_salida['Vmax']\n",
    "        \n",
    "        \n",
    "        n = np.shape(self.p_profundidad)[0] \n",
    "        c_NH4 = np.zeros(n)\n",
    "        c_NH4[0] = C_ini_NH4\n",
    "        c_NO3 = np.zeros(n)\n",
    "        c_NO3[0] = C_ini_NO3\n",
    "        \n",
    "        for i in range(1,n):\n",
    "            if C_ini_NH4 > 0.001:\n",
    "                c_NH4[i] = self.fconc(self.propiedades['Km_nit'], C_ini_NH4, krmax[i], R_nt[i])\n",
    "            else:\n",
    "                c_NH4[i] = 0.001\n",
    "            \n",
    "            C_ini_NH4 = c_NH4[i]\n",
    "            \n",
    "            C_ini_NO3 = c_NO3[i-1] + c_NH4[i-1] - c_NH4[i]\n",
    "            if C_ini_NO3 > 0.001:\n",
    "                c_NO3[i] = self.fconc( self.propiedades['Km_dnt'],C_ini_NO3, vmax[i])\n",
    "            else:\n",
    "                c_NO3[i] = 0.001\n",
    "            \n",
    "        self.C_NH4 = c_NH4\n",
    "        self.df_salida['cNH4'] = c_NH4\n",
    "        self.C_NO3 = c_NO3\n",
    "        self.df_salida['cNO3'] = c_NO3\n",
    "        self.Ctotal = c_NH4 + c_NO3    \n",
    "        self.df_salida['Total N'] = self.Ctotal\n",
    "        \n",
    "        #Flujo de masa\n",
    "        Ctotal = self.Ctotal\n",
    "        hlr = self.propiedades['HLR']\n",
    "        mass_fl = np.zeros(Ctotal.shape[0])\n",
    "        for i in range(Ctotal.shape[0]):\n",
    "            mass_fl[i] = (2/3) * Ctotal[i]* (2/3) * hlr / 100\n",
    "        \n",
    "        self.mass_fl = mass_fl\n",
    "            \n",
    "            \n",
    "\n",
    "    def graficar(self):\n",
    "        x = self.p_profundidad\n",
    "        y1 = self.C_NH4\n",
    "        y2 = self.C_NO3\n",
    "        y3 = self.Ctotal\n",
    "        y_fl = self.mass_fl\n",
    "        \n",
    "        fig, ax = plt.subplots()\n",
    "        ax.plot(x, y1)\n",
    "        ax.plot(x, y2)\n",
    "        ax.plot(x, y3)\n",
    "        ax.set_xlabel('Profundidad')\n",
    "        ax.set_ylabel('Concentración')\n",
    "        ax.set_title('Concentración N')\n",
    "        ax.legend(['CNH4','CNO3','CTotal'])\n",
    "        \n",
    "        fig1, ax1 = plt.subplots()\n",
    "        ax1.plot(x, y_fl)\n",
    "        ax1.set_xlabel('Profundidad')\n",
    "        ax1.set_ylabel('Mass flux $gm^2 d^{-1}$')\n",
    "        ax1.set_title('Mass Flux TN')\n",
    "        ax1.legend(['Mass Flux TN'])\n",
    "        plt.show()\n",
    "\n",
    "        fig2, ax2 = plt.subplots()\n",
    "        c_remanente = self.Ctotal * 100 / (self.NH4+self.NO3)\n",
    "        ax2.plot(x, c_remanente)\n",
    "        ax2.set_xlabel('Profundidad')\n",
    "        ax2.set_ylabel('%')\n",
    "        ax2.set_title('Remanente')\n",
    "        #ax2.legend(['Mass Flux TN'])\n",
    "        plt.show()\n",
    "        \n",
    "\n"
   ]
  },
  {
   "cell_type": "code",
   "execution_count": 43,
   "metadata": {},
   "outputs": [],
   "source": [
    "#Diccionario de propiedades\n",
    "dic_h = {\n",
    "'HLR':5,\n",
    "'aG':0.025,#\t aG\n",
    "'aVG':0.015,#\taVG\n",
    "'Ks':14.75,#\tKs\n",
    "'Yo':0,#\tYo\n",
    "'qr':0.068,#\tqr\n",
    "'qs':0.459,#\tqs \n",
    "'n':1.26,#\tn \n",
    "'l':0.50,\t#  l \n",
    "######## nit\n",
    "'swp':0.15,# swp ### sirve para calcular WFP\n",
    "'fs':0.00,#\t  fs \n",
    "'fwp':0.00,#\t  fwp\n",
    "'e2':2.27,\t # e2\n",
    "'e3':1.10,\t#  e3 \n",
    "'kr_max':56.00,#\t  kr max\n",
    "'Km_nit':5.00,#3\t  Km,nit\n",
    "'bnit':0.35,#\t  bnit \n",
    "'sl':0.67,#\t sl\n",
    "'sh':0.81,#\t  sh\n",
    "####### dnt\n",
    "'ednt':3.77,#\t  ednt\n",
    "'Vmax':2.56,#\t  Vmax \n",
    "'Km_dnt':5.00,#\t  Km,dnt\n",
    "'bdnt':0.35,#\t  bdnt \n",
    "'sdn':0.00,#\t  sdn \n",
    "'ac':0.00,#\t  ac \n",
    "##### R\n",
    "'kd':1.46,\n",
    "'rho':1.50\t  #rho\n",
    "}"
   ]
  },
  {
   "cell_type": "code",
   "execution_count": 62,
   "metadata": {},
   "outputs": [],
   "source": [
    "#Creación del objeto modelo\n",
    "mod = Modelo(2000, 1, propiedades=dic_h, NH4=600, NO3 = 1)"
   ]
  },
  {
   "cell_type": "code",
   "execution_count": 63,
   "metadata": {},
   "outputs": [
    {
     "data": {
      "text/plain": [
       "array([0.000e+00, 1.000e+00, 2.000e+00, ..., 1.998e+03, 1.999e+03,\n",
       "       2.000e+03])"
      ]
     },
     "execution_count": 63,
     "metadata": {},
     "output_type": "execute_result"
    }
   ],
   "source": [
    "#cálculo de profundidad\n",
    "z = mod.z()\n",
    "z"
   ]
  },
  {
   "cell_type": "code",
   "execution_count": 64,
   "metadata": {},
   "outputs": [
    {
     "data": {
      "text/plain": [
       "array([  0.        ,  -0.65820856,  -1.95764379, ..., -43.27220681,\n",
       "       -43.27220681, -43.27220681])"
      ]
     },
     "execution_count": 64,
     "metadata": {},
     "output_type": "execute_result"
    }
   ],
   "source": [
    "#Cálculo de presiones\n",
    "y = mod.psi()\n",
    "y"
   ]
  },
  {
   "cell_type": "code",
   "execution_count": 65,
   "metadata": {},
   "outputs": [
    {
     "data": {
      "text/plain": [
       "array([0.459     , 0.45876066, 0.45805989, ..., 0.42377768, 0.42377768,\n",
       "       0.42377768])"
      ]
     },
     "execution_count": 65,
     "metadata": {},
     "output_type": "execute_result"
    }
   ],
   "source": [
    "#perfil de humedad\n",
    "hum = mod.tetha()\n",
    "hum"
   ]
  },
  {
   "cell_type": "code",
   "execution_count": 66,
   "metadata": {},
   "outputs": [
    {
     "data": {
      "text/plain": [
       "array([1.        , 0.99947856, 0.99795182, ..., 0.92326291, 0.92326291,\n",
       "       0.92326291])"
      ]
     },
     "execution_count": 66,
     "metadata": {},
     "output_type": "execute_result"
    }
   ],
   "source": [
    "wfp = mod.fWFP()\n",
    "wfp"
   ]
  },
  {
   "cell_type": "code",
   "execution_count": 67,
   "metadata": {},
   "outputs": [],
   "source": [
    "#s = np.linspace(1,0 ,wfp.shape[0])\n",
    "#mod.WFP = s"
   ]
  },
  {
   "cell_type": "code",
   "execution_count": 68,
   "metadata": {},
   "outputs": [],
   "source": [
    "#FACTORES PARA LAS REACCIONES\n",
    "## efecto del contenido de carbono\n",
    "fz = mod.fcont_c()\n",
    "## efecto de sw en la nit\n",
    "fswnt = mod.fswnt()\n",
    "## efecto de sw en la desn\n",
    "fswdnt = mod.fswdnt()"
   ]
  },
  {
   "cell_type": "code",
   "execution_count": 69,
   "metadata": {},
   "outputs": [
    {
     "data": {
      "text/plain": [
       "<matplotlib.legend.Legend at 0x20e99463820>"
      ]
     },
     "execution_count": 69,
     "metadata": {},
     "output_type": "execute_result"
    },
    {
     "data": {
      "image/png": "[encoded data removed]",
      "text/plain": [
       "<Figure size 432x288 with 1 Axes>"
      ]
     },
     "metadata": {
      "needs_background": "light"
     },
     "output_type": "display_data"
    }
   ],
   "source": [
    "x = z\n",
    "y1 = fswnt\n",
    "y2 = fswdnt\n",
    "y3 = fz \n",
    "fig, ax = plt.subplots()\n",
    "ax.plot(x, y1)\n",
    "ax.plot(x, y2)\n",
    "ax.plot(x, y3)\n",
    "ax.set_xlabel('Profundidad')\n",
    "ax.set_ylabel('Magnitud')\n",
    "ax.set_title('Factores')\n",
    "ax.legend(['F_nit','F_dnt','fz'])"
   ]
  },
  {
   "cell_type": "code",
   "execution_count": 70,
   "metadata": {},
   "outputs": [
    {
     "data": {
      "image/png": "[encoded data removed]",
      "text/plain": [
       "<Figure size 432x288 with 1 Axes>"
      ]
     },
     "metadata": {
      "needs_background": "light"
     },
     "output_type": "display_data"
    },
    {
     "data": {
      "image/png": "[encoded data removed]",
      "text/plain": [
       "<Figure size 432x288 with 1 Axes>"
      ]
     },
     "metadata": {
      "needs_background": "light"
     },
     "output_type": "display_data"
    },
    {
     "data": {
      "image/png": "[encoded data removed]",
      "text/plain": [
       "<Figure size 432x288 with 1 Axes>"
      ]
     },
     "metadata": {
      "needs_background": "light"
     },
     "output_type": "display_data"
    }
   ],
   "source": [
    "#ELEMENTOS PARA CALCULAR LAS CONCENTRACIONES\n",
    "### factor de retardación\n",
    "\n",
    "R = mod.fR()\n",
    "### kr max\n",
    "krmax = mod.f_krmax()\n",
    "##Vmax\n",
    "Vmax = mod.fVmax()\n",
    "\n",
    "## Concentraciones\n",
    "mod.Cnit()\n",
    "\n",
    "\n",
    "CO3 = mod.C_NO3\n",
    "CNH4 = mod.C_NH4\n",
    "#\n",
    "mod.graficar()"
   ]
  }
 ],
 "metadata": {
  "kernelspec": {
   "display_name": "Python 3",
   "language": "python",
   "name": "python3"
  },
  "language_info": {
   "codemirror_mode": {
    "name": "ipython",
    "version": 3
   },
   "file_extension": ".py",
   "mimetype": "text/x-python",
   "name": "python",
   "nbconvert_exporter": "python",
   "pygments_lexer": "ipython3",
   "version": "3.8.3"
  }
 },
 "nbformat": 4,
 "nbformat_minor": 4
}
