{
 "cells": [
  {
   "cell_type": "code",
   "execution_count": 9,
   "metadata": {},
   "outputs": [],
   "source": [
    "import numpy as np\n",
    "import matplotlib.pyplot as plt\n",
    "from matplotlib.animation import FuncAnimation\n",
    "%matplotlib inline"
   ]
  },
  {
   "cell_type": "code",
   "execution_count": 3,
   "metadata": {},
   "outputs": [],
   "source": [
    "#Solución para la ecuación de transporte con flujo en estado estacionario\n",
    "#Utilizando diferencias finitas centradas en el tiempo, con el método de \n",
    "#Crank Nicolson.\n",
    "q = 1\n",
    "porosidad = 0.4\n",
    "vz = q/porosidad #cm/d\n",
    "R = 1\n",
    "dt = 0.1#dia\n",
    "dz = 1 #cm\n",
    "D = .5\n",
    "L = 2000\n",
    "T = 1\n",
    "dominio = np.linspace(0,5,6)\n",
    "#Condiciones iniciales\n",
    "condicion = np.zeros(L+1)\n",
    "condicion[0] = 60\n",
    "frontera = 60"
   ]
  },
  {
   "cell_type": "code",
   "execution_count": 4,
   "metadata": {},
   "outputs": [
    {
     "name": "stdout",
     "output_type": "stream",
     "text": [
      "-0.025 0.0625\n"
     ]
    }
   ],
   "source": [
    "a = -( D * dt)/(2 * dz**2)\n",
    "b = (vz * dt)/( 4 * dz)\n",
    "## tamaño del dominio\n",
    "#pasos de tiempo\n",
    "\n",
    "#Caso primer paso de tiempo\n",
    "print(a,b)\n"
   ]
  },
  {
   "cell_type": "code",
   "execution_count": 5,
   "metadata": {},
   "outputs": [
    {
     "data": {
      "text/plain": [
       "0.95"
      ]
     },
     "execution_count": 5,
     "metadata": {},
     "output_type": "execute_result"
    }
   ],
   "source": [
    "2*a+1"
   ]
  },
  {
   "cell_type": "code",
   "execution_count": 6,
   "metadata": {},
   "outputs": [],
   "source": [
    "incognitas = L"
   ]
  },
  {
   "cell_type": "code",
   "execution_count": 7,
   "metadata": {
    "scrolled": false
   },
   "outputs": [],
   "source": [
    "soluciones = [list(condicion)]\n",
    "\n",
    "for t in range(T):\n",
    "    matriz = np.zeros((incognitas, incognitas))\n",
    "    vector = np.zeros(incognitas)\n",
    "    for x in range(L):\n",
    "        if x == 0:\n",
    "            matriz[x,x] = 1 + 2*a\n",
    "            matriz[x,x+1] = -a + b\n",
    "                \n",
    "            vector[x] =  (a+b)*condicion[x] + (1-2*a)*condicion[x+1] + (a-b)*condicion[x+2] + (a+b)*frontera \n",
    "                \n",
    "        elif 0 < x < L-1:\n",
    "            matriz[x,x+1] = -(a-b)\n",
    "            matriz[x,x] = 1 + 2*a\n",
    "            matriz[x,x-1] = -(a+b)\n",
    "                \n",
    "            vector[x] = (a+b)*condicion[x] + (1-2*a)*condicion[x+1] + (a-b)*condicion[x+2]\n",
    "        \n",
    "        elif x == L-1:\n",
    "            matriz[x,x-1] = -(a+b)\n",
    "            matriz[x,x] = 1+a+b\n",
    "                \n",
    "            vector[x] = (a+b)*condicion[x] * (1-a-b)*condicion[x+1]\n",
    "    \n",
    "    #sol = np.linalg.solve(matriz, vector)\n",
    "    #condicion[1:] = sol[:]\n",
    "    #soluciones.append(list(condicion))"
   ]
  },
  {
   "cell_type": "code",
   "execution_count": 8,
   "metadata": {
    "scrolled": true
   },
   "outputs": [
    {
     "data": {
      "text/plain": [
       "array([[ 0.95  ,  0.0875,  0.    , ...,  0.    ,  0.    ,  0.    ],\n",
       "       [-0.0375,  0.95  ,  0.0875, ...,  0.    ,  0.    ,  0.    ],\n",
       "       [ 0.    , -0.0375,  0.95  , ...,  0.    ,  0.    ,  0.    ],\n",
       "       ...,\n",
       "       [ 0.    ,  0.    ,  0.    , ...,  0.95  ,  0.0875,  0.    ],\n",
       "       [ 0.    ,  0.    ,  0.    , ..., -0.0375,  0.95  ,  0.0875],\n",
       "       [ 0.    ,  0.    ,  0.    , ...,  0.    , -0.0375,  1.0375]])"
      ]
     },
     "execution_count": 8,
     "metadata": {},
     "output_type": "execute_result"
    }
   ],
   "source": [
    "matriz"
   ]
  },
  {
   "cell_type": "code",
   "execution_count": 32,
   "metadata": {},
   "outputs": [
    {
     "data": {
      "text/plain": [
       "1.4999999999999996"
      ]
     },
     "execution_count": 32,
     "metadata": {},
     "output_type": "execute_result"
    }
   ],
   "source": [
    "vector[0]"
   ]
  },
  {
   "cell_type": "code",
   "execution_count": 33,
   "metadata": {
    "scrolled": true
   },
   "outputs": [
    {
     "data": {
      "text/plain": [
       "array([1.66378315e+00, 2.30681198e-02, 3.19836137e-04, 4.43532394e-06,\n",
       "       5.47570857e-08])"
      ]
     },
     "execution_count": 33,
     "metadata": {},
     "output_type": "execute_result"
    }
   ],
   "source": [
    "np.linalg.solve(matriz, vector)"
   ]
  },
  {
   "cell_type": "code",
   "execution_count": 11,
   "metadata": {},
   "outputs": [
    {
     "data": {
      "image/png": "[encoded data removed]",
      "text/plain": [
       "<Figure size 432x288 with 1 Axes>"
      ]
     },
     "metadata": {
      "needs_background": "light"
     },
     "output_type": "display_data"
    }
   ],
   "source": [
    "\n",
    "\n",
    "fig, ax = plt.subplots()\n",
    "xdata, ydata = dominio , condicion\n",
    "ax.set(xlabel = 'Dominio x', ylabel = 'Concentración',\n",
    "       title='Transporte de contaminante') \n",
    "ax.legend('sdad')\n",
    "ln, = plt.plot([], [])\n",
    "\n",
    "\n",
    "def init():\n",
    "    ax.set_xlim(0, L+1)\n",
    "    ax.set_ylim(0, frontera*1.5)\n",
    "    return ln,\n",
    "\n",
    "def update(paso):\n",
    "    print(paso)\n",
    "    xdata = dominio  \n",
    "    ydata = paso[:]\n",
    "    ln.set_data(xdata, ydata)\n",
    "    return ln,"
   ]
  },
  {
   "cell_type": "code",
   "execution_count": 373,
   "metadata": {},
   "outputs": [],
   "source": [
    "ani = FuncAnimation(fig, update, soluciones ,\n",
    "                    init_func=init, blit=True, repeat= True)\n",
    "plt.show()"
   ]
  },
  {
   "cell_type": "code",
   "execution_count": null,
   "metadata": {},
   "outputs": [],
   "source": []
  }
 ],
 "metadata": {
  "kernelspec": {
   "display_name": "Python 3",
   "language": "python",
   "name": "python3"
  },
  "language_info": {
   "codemirror_mode": {
    "name": "ipython",
    "version": 3
   },
   "file_extension": ".py",
   "mimetype": "text/x-python",
   "name": "python",
   "nbconvert_exporter": "python",
   "pygments_lexer": "ipython3",
   "version": "3.8.3"
  }
 },
 "nbformat": 4,
 "nbformat_minor": 4
}
